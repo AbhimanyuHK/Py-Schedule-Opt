{
 "cells": [
  {
   "cell_type": "code",
   "execution_count": 24,
   "id": "2eb9db55-12b9-41f7-8f89-9ab0b5808d97",
   "metadata": {},
   "outputs": [],
   "source": [
    "os.environ[\"NEOS_EMAIL\"] = \"manyu1994@hotmail.com\""
   ]
  },
  {
   "cell_type": "code",
   "execution_count": 45,
   "id": "88967b39-12ed-4244-a970-22f563668a5b",
   "metadata": {},
   "outputs": [],
   "source": [
    "import pyomo.environ as pyo\n",
    "import os\n",
    "\n",
    "model = pyo.ConcreteModel()\n",
    "\n",
    "model.x = pyo.Var([1,2], domain=pyo.NonNegativeReals)\n",
    "\n",
    "model.OBJ = pyo.Objective(expr = 2*model.x[1] + 3*model.x[2])\n",
    "\n",
    "model.Constraint1 = pyo.Constraint(expr = 3*model.x[1] + 4*model.x[2] >= 2)\n",
    "model.Constraint2 = pyo.Constraint(expr = model.x[1]*model.x[1] - 4*model.x[2] <= 20)"
   ]
  },
  {
   "cell_type": "code",
   "execution_count": 46,
   "id": "4358f3cb-11a8-452e-bc69-c6b28b4f718e",
   "metadata": {},
   "outputs": [],
   "source": [
    "from pyomo.opt import SolverFactory\n",
    "from pyomo.environ import *\n",
    "\n",
    "opt = SolverFactory('cplex')  # Select solver\n",
    "solver_manager = SolverManagerFactory('neos')  # Solve in neos server\n",
    "results = solver_manager.solve(model, opt=opt)"
   ]
  },
  {
   "cell_type": "code",
   "execution_count": 47,
   "id": "3e7756c2-53e7-44e3-be4b-dd2bc926a9fc",
   "metadata": {},
   "outputs": [
    {
     "data": {
      "text/plain": [
       "{'Problem': [{'Lower bound': -inf, 'Upper bound': inf, 'Number of objectives': 1, 'Number of constraints': 2, 'Number of variables': 2, 'Sense': 'unknown'}], 'Solver': [{'Status': 'ok', 'Message': 'CPLEX 20.1.0.0\\\\x3a optimal solution; objective 1.3333333324038312; 6 barrier iterations; No basis.', 'Termination condition': 'optimal', 'Id': 0}], 'Solution': [OrderedDict([('number of solutions', 0), ('number of solutions displayed', 0)])]}"
      ]
     },
     "execution_count": 47,
     "metadata": {},
     "output_type": "execute_result"
    }
   ],
   "source": [
    "results"
   ]
  },
  {
   "cell_type": "code",
   "execution_count": 48,
   "id": "05754a5e-0070-495c-a7f6-09b5aad58ec1",
   "metadata": {},
   "outputs": [
    {
     "name": "stdout",
     "output_type": "stream",
     "text": [
      "x : Size=2, Index=x_index\n",
      "    Key : Lower : Value                  : Upper : Fixed : Stale : Domain\n",
      "      1 :     0 :     0.6666666658760029 :  None : False : False : NonNegativeReals\n",
      "      2 :     0 : 2.1727516542844713e-10 :  None : False : False : NonNegativeReals\n"
     ]
    }
   ],
   "source": [
    "model.x.display()"
   ]
  },
  {
   "cell_type": "code",
   "execution_count": 49,
   "id": "fef1dc9f-158a-415c-8fe4-fc76c26dbf3e",
   "metadata": {},
   "outputs": [
    {
     "name": "stdout",
     "output_type": "stream",
     "text": [
      "OBJ : Size=1, Index=None, Active=True\n",
      "    Key  : Active : Value\n",
      "    None :   True : 1.3333333324038312\n"
     ]
    }
   ],
   "source": [
    "model.OBJ.display()"
   ]
  },
  {
   "cell_type": "code",
   "execution_count": 29,
   "id": "36f09d3c-9da6-4249-887b-8746872f72a0",
   "metadata": {},
   "outputs": [
    {
     "data": {
      "text/plain": [
       "0.6666666666666666"
      ]
     },
     "execution_count": 29,
     "metadata": {},
     "output_type": "execute_result"
    }
   ],
   "source": [
    "model.OBJ()"
   ]
  },
  {
   "cell_type": "code",
   "execution_count": 16,
   "id": "5ff2bacb-32df-4663-8d1d-9748448b6b90",
   "metadata": {},
   "outputs": [
    {
     "name": "stdout",
     "output_type": "stream",
     "text": [
      "# ==========================================================\n",
      "# = Solver Results                                         =\n",
      "# ==========================================================\n",
      "# ----------------------------------------------------------\n",
      "#   Problem Information\n",
      "# ----------------------------------------------------------\n",
      "Problem: \n",
      "- Lower bound: -inf\n",
      "  Upper bound: inf\n",
      "  Number of objectives: 1\n",
      "  Number of constraints: 3\n",
      "  Number of variables: 2\n",
      "  Sense: unknown\n",
      "# ----------------------------------------------------------\n",
      "#   Solver Information\n",
      "# ----------------------------------------------------------\n",
      "Solver: \n",
      "- Status: ok\n",
      "  Message: CPLEX 20.1.0.0\\x3a optimal solution; objective 2600; 2 dual simplex iterations (1 in phase I)\n",
      "  Termination condition: optimal\n",
      "  Id: 0\n",
      "# ----------------------------------------------------------\n",
      "#   Solution Information\n",
      "# ----------------------------------------------------------\n",
      "Solution: \n",
      "- number of solutions: 0\n",
      "  number of solutions displayed: 0\n",
      "2 Var Declarations\n",
      "    x : Size=1, Index=None\n",
      "        Key  : Lower : Value : Upper : Fixed : Stale : Domain\n",
      "        None :     0 :  20.0 :  None : False : False : NonNegativeReals\n",
      "    y : Size=1, Index=None\n",
      "        Key  : Lower : Value : Upper : Fixed : Stale : Domain\n",
      "        None :     0 :  60.0 :  None : False : False : NonNegativeReals\n",
      "\n",
      "1 Objective Declarations\n",
      "    profit : Size=1, Index=None, Active=True\n",
      "        Key  : Active : Sense    : Expression\n",
      "        None :   True : maximize : 40*x + 30*y\n",
      "\n",
      "3 Constraint Declarations\n",
      "    demand : Size=1, Index=None, Active=True\n",
      "        Key  : Lower : Body : Upper : Active\n",
      "        None :  -Inf :    x :  40.0 :   True\n",
      "    laborA : Size=1, Index=None, Active=True\n",
      "        Key  : Lower : Body  : Upper : Active\n",
      "        None :  -Inf : x + y :  80.0 :   True\n",
      "    laborB : Size=1, Index=None, Active=True\n",
      "        Key  : Lower : Body    : Upper : Active\n",
      "        None :  -Inf : 2*x + y : 100.0 :   True\n",
      "\n",
      "6 Declarations: x y profit demand laborA laborB\n",
      "\n",
      "Profit =  2600.0\n",
      "\n",
      "Decision Variables\n",
      "x =  20.0\n",
      "y =  60.0\n",
      "\n",
      "Constraints\n",
      "Demand  =  20.0\n",
      "Labor A =  80.0\n",
      "Labor B =  100.0\n"
     ]
    }
   ],
   "source": [
    "from pyomo.environ import *\n",
    "\n",
    "# create a model\n",
    "model = ConcreteModel()\n",
    "\n",
    "# declare decision variables\n",
    "model.x = Var(domain=NonNegativeReals)\n",
    "model.y = Var(domain=NonNegativeReals)\n",
    "\n",
    "# declare objective\n",
    "model.profit = Objective(expr = 40*model.x + 30*model.y, sense=maximize)\n",
    "\n",
    "# declare constraints\n",
    "model.demand = Constraint(expr = model.x <= 40)\n",
    "model.laborA = Constraint(expr = model.x + model.y <= 80)\n",
    "model.laborB = Constraint(expr = 2*model.x + model.y <= 100)\n",
    "\n",
    "# solve\n",
    "# results = SolverFactory('glpk').solve(model)\n",
    "opt = SolverFactory('cplex')  # Select solver\n",
    "solver_manager = SolverManagerFactory('neos')  # Solve in neos server\n",
    "results = solver_manager.solve(model, opt=opt)\n",
    "results.write()\n",
    "if results.solver.status:\n",
    "    model.pprint()\n",
    "\n",
    "# display solution\n",
    "print('\\nProfit = ', model.profit())\n",
    "\n",
    "print('\\nDecision Variables')\n",
    "print('x = ', model.x())\n",
    "print('y = ', model.y())\n",
    "\n",
    "print('\\nConstraints')\n",
    "print('Demand  = ', model.demand())\n",
    "print('Labor A = ', model.laborA())\n",
    "print('Labor B = ', model.laborB())"
   ]
  },
  {
   "cell_type": "code",
   "execution_count": null,
   "id": "0439398d-f521-4eff-ac1b-60a6989199fb",
   "metadata": {},
   "outputs": [],
   "source": []
  },
  {
   "cell_type": "code",
   "execution_count": 18,
   "id": "8f81f22d-d799-4ceb-9838-c8f4510e59cc",
   "metadata": {},
   "outputs": [],
   "source": [
    "import pyomo.environ as pyo\n",
    "\n",
    "model = pyo.AbstractModel()\n",
    "\n",
    "model.m = pyo.Param(within=pyo.NonNegativeIntegers)\n",
    "model.n = pyo.Param(within=pyo.NonNegativeIntegers)\n",
    "\n",
    "model.I = pyo.RangeSet(1, model.m)\n",
    "model.J = pyo.RangeSet(1, model.n)\n",
    "\n",
    "model.a = pyo.Param(model.I, model.J)\n",
    "model.b = pyo.Param(model.I)\n",
    "model.c = pyo.Param(model.J)\n",
    "\n",
    "# the next line declares a variable indexed by the set J\n",
    "model.x = pyo.Var(model.J, domain=pyo.NonNegativeReals)\n",
    "\n",
    "def obj_expression(m):\n",
    "    return pyo.summation(m.c, m.x)\n",
    "\n",
    "model.OBJ = pyo.Objective(rule=obj_expression)\n",
    "\n",
    "def ax_constraint_rule(m, i):\n",
    "    # return the expression for the constraint for i\n",
    "    return sum(m.a[i,j] * m.x[j] for j in m.J) >= m.b[i]\n",
    "\n",
    "# the next line creates one constraint for each member of the set model.I\n",
    "model.AxbConstraint = pyo.Constraint(model.I, rule=ax_constraint_rule)"
   ]
  },
  {
   "cell_type": "code",
   "execution_count": 22,
   "id": "fb96044a-6a31-4291-8fc7-aa1b04d2f128",
   "metadata": {},
   "outputs": [
    {
     "name": "stdout",
     "output_type": "stream",
     "text": [
      "ERROR: evaluating object as numeric value: m\n",
      "        (object: <class 'pyomo.core.base.param.ScalarParam'>)\n",
      "    Error retrieving immutable Param value (m):\n",
      "            The Param value is undefined and no default value is specified.\n"
     ]
    },
    {
     "ename": "ValueError",
     "evalue": "Error retrieving immutable Param value (m):\n\tThe Param value is undefined and no default value is specified.",
     "output_type": "error",
     "traceback": [
      "\u001b[1;31m---------------------------------------------------------------------------\u001b[0m",
      "\u001b[1;31mValueError\u001b[0m                                Traceback (most recent call last)",
      "Cell \u001b[1;32mIn[22], line 1\u001b[0m\n\u001b[1;32m----> 1\u001b[0m model_1 \u001b[38;5;241m=\u001b[39m \u001b[43mmodel\u001b[49m\u001b[38;5;241;43m.\u001b[39;49m\u001b[43mconstruct\u001b[49m\u001b[43m(\u001b[49m\u001b[43m)\u001b[49m\n\u001b[0;32m      2\u001b[0m model_1\u001b[38;5;241m.\u001b[39mpprint()\n",
      "File \u001b[1;32mc:\\users\\manyu\\mystack\\py-schedule-opt\\venv\\lib\\site-packages\\pyomo\\core\\base\\block.py:2189\u001b[0m, in \u001b[0;36mBlock.construct\u001b[1;34m(self, data)\u001b[0m\n\u001b[0;32m   2187\u001b[0m     \u001b[38;5;28;01mfor\u001b[39;00m name, obj \u001b[38;5;129;01min\u001b[39;00m _predefined_components\u001b[38;5;241m.\u001b[39mitems():\n\u001b[0;32m   2188\u001b[0m         \u001b[38;5;28;01mif\u001b[39;00m \u001b[38;5;129;01mnot\u001b[39;00m obj\u001b[38;5;241m.\u001b[39m_constructed:\n\u001b[1;32m-> 2189\u001b[0m             \u001b[43mobj\u001b[49m\u001b[38;5;241;43m.\u001b[39;49m\u001b[43mconstruct\u001b[49m\u001b[43m(\u001b[49m\u001b[43mdata\u001b[49m\u001b[38;5;241;43m.\u001b[39;49m\u001b[43mget\u001b[49m\u001b[43m(\u001b[49m\u001b[43mname\u001b[49m\u001b[43m,\u001b[49m\u001b[43m \u001b[49m\u001b[38;5;28;43;01mNone\u001b[39;49;00m\u001b[43m)\u001b[49m\u001b[43m)\u001b[49m\n\u001b[0;32m   2190\u001b[0m \u001b[38;5;66;03m# Trigger the (normal) initialization of the block\u001b[39;00m\n\u001b[0;32m   2191\u001b[0m \u001b[38;5;28mself\u001b[39m\u001b[38;5;241m.\u001b[39m_getitem_when_not_present(_idx)\n",
      "File \u001b[1;32mc:\\users\\manyu\\mystack\\py-schedule-opt\\venv\\lib\\site-packages\\pyomo\\core\\base\\disable_methods.py:124\u001b[0m, in \u001b[0;36mdisable_methods.<locals>.class_decorator.<locals>.construct\u001b[1;34m(self, data)\u001b[0m\n\u001b[0;32m    122\u001b[0m     \u001b[38;5;28mself\u001b[39m\u001b[38;5;241m.\u001b[39m_name \u001b[38;5;241m=\u001b[39m base\u001b[38;5;241m.\u001b[39m\u001b[38;5;18m__name__\u001b[39m\n\u001b[0;32m    123\u001b[0m \u001b[38;5;28mself\u001b[39m\u001b[38;5;241m.\u001b[39m\u001b[38;5;18m__class__\u001b[39m \u001b[38;5;241m=\u001b[39m base\n\u001b[1;32m--> 124\u001b[0m \u001b[38;5;28;01mreturn\u001b[39;00m \u001b[43mbase\u001b[49m\u001b[38;5;241;43m.\u001b[39;49m\u001b[43mconstruct\u001b[49m\u001b[43m(\u001b[49m\u001b[38;5;28;43mself\u001b[39;49m\u001b[43m,\u001b[49m\u001b[43m \u001b[49m\u001b[43mdata\u001b[49m\u001b[43m)\u001b[49m\n",
      "File \u001b[1;32mc:\\users\\manyu\\mystack\\py-schedule-opt\\venv\\lib\\site-packages\\pyomo\\core\\base\\set.py:2988\u001b[0m, in \u001b[0;36mRangeSet.construct\u001b[1;34m(self, data)\u001b[0m\n\u001b[0;32m   2978\u001b[0m \u001b[38;5;28;01mif\u001b[39;00m \u001b[38;5;28many\u001b[39m(\u001b[38;5;129;01mnot\u001b[39;00m is_constant(arg) \u001b[38;5;28;01mfor\u001b[39;00m arg \u001b[38;5;129;01min\u001b[39;00m args):\n\u001b[0;32m   2979\u001b[0m     logger\u001b[38;5;241m.\u001b[39mwarning(\n\u001b[0;32m   2980\u001b[0m         \u001b[38;5;124m\"\u001b[39m\u001b[38;5;124mConstructing RangeSet \u001b[39m\u001b[38;5;124m'\u001b[39m\u001b[38;5;132;01m%s\u001b[39;00m\u001b[38;5;124m'\u001b[39m\u001b[38;5;124m from non-constant data (e.g., \u001b[39m\u001b[38;5;124m\"\u001b[39m\n\u001b[0;32m   2981\u001b[0m         \u001b[38;5;124m\"\u001b[39m\u001b[38;5;124mVar or mutable Param).  The linkage between this RangeSet \u001b[39m\u001b[38;5;124m\"\u001b[39m\n\u001b[1;32m   (...)\u001b[0m\n\u001b[0;32m   2986\u001b[0m         \u001b[38;5;124m\"\u001b[39m\u001b[38;5;124mimmutable Param)\u001b[39m\u001b[38;5;124m\"\u001b[39m \u001b[38;5;241m%\u001b[39m (\u001b[38;5;28mself\u001b[39m\u001b[38;5;241m.\u001b[39mname,)\n\u001b[0;32m   2987\u001b[0m     )\n\u001b[1;32m-> 2988\u001b[0m args \u001b[38;5;241m=\u001b[39m \u001b[38;5;28;43mtuple\u001b[39;49m\u001b[43m(\u001b[49m\u001b[43mvalue\u001b[49m\u001b[43m(\u001b[49m\u001b[43marg\u001b[49m\u001b[43m)\u001b[49m\u001b[43m \u001b[49m\u001b[38;5;28;43;01mfor\u001b[39;49;00m\u001b[43m \u001b[49m\u001b[43marg\u001b[49m\u001b[43m \u001b[49m\u001b[38;5;129;43;01min\u001b[39;49;00m\u001b[43m \u001b[49m\u001b[43margs\u001b[49m\u001b[43m)\u001b[49m\n\u001b[0;32m   2989\u001b[0m \u001b[38;5;28;01mif\u001b[39;00m \u001b[38;5;28mtype\u001b[39m(ranges) \u001b[38;5;129;01mis\u001b[39;00m \u001b[38;5;129;01mnot\u001b[39;00m \u001b[38;5;28mtuple\u001b[39m:\n\u001b[0;32m   2990\u001b[0m     ranges \u001b[38;5;241m=\u001b[39m \u001b[38;5;28mtuple\u001b[39m(ranges)\n",
      "File \u001b[1;32mc:\\users\\manyu\\mystack\\py-schedule-opt\\venv\\lib\\site-packages\\pyomo\\core\\base\\set.py:2988\u001b[0m, in \u001b[0;36m<genexpr>\u001b[1;34m(.0)\u001b[0m\n\u001b[0;32m   2978\u001b[0m \u001b[38;5;28;01mif\u001b[39;00m \u001b[38;5;28many\u001b[39m(\u001b[38;5;129;01mnot\u001b[39;00m is_constant(arg) \u001b[38;5;28;01mfor\u001b[39;00m arg \u001b[38;5;129;01min\u001b[39;00m args):\n\u001b[0;32m   2979\u001b[0m     logger\u001b[38;5;241m.\u001b[39mwarning(\n\u001b[0;32m   2980\u001b[0m         \u001b[38;5;124m\"\u001b[39m\u001b[38;5;124mConstructing RangeSet \u001b[39m\u001b[38;5;124m'\u001b[39m\u001b[38;5;132;01m%s\u001b[39;00m\u001b[38;5;124m'\u001b[39m\u001b[38;5;124m from non-constant data (e.g., \u001b[39m\u001b[38;5;124m\"\u001b[39m\n\u001b[0;32m   2981\u001b[0m         \u001b[38;5;124m\"\u001b[39m\u001b[38;5;124mVar or mutable Param).  The linkage between this RangeSet \u001b[39m\u001b[38;5;124m\"\u001b[39m\n\u001b[1;32m   (...)\u001b[0m\n\u001b[0;32m   2986\u001b[0m         \u001b[38;5;124m\"\u001b[39m\u001b[38;5;124mimmutable Param)\u001b[39m\u001b[38;5;124m\"\u001b[39m \u001b[38;5;241m%\u001b[39m (\u001b[38;5;28mself\u001b[39m\u001b[38;5;241m.\u001b[39mname,)\n\u001b[0;32m   2987\u001b[0m     )\n\u001b[1;32m-> 2988\u001b[0m args \u001b[38;5;241m=\u001b[39m \u001b[38;5;28mtuple\u001b[39m(\u001b[43mvalue\u001b[49m\u001b[43m(\u001b[49m\u001b[43marg\u001b[49m\u001b[43m)\u001b[49m \u001b[38;5;28;01mfor\u001b[39;00m arg \u001b[38;5;129;01min\u001b[39;00m args)\n\u001b[0;32m   2989\u001b[0m \u001b[38;5;28;01mif\u001b[39;00m \u001b[38;5;28mtype\u001b[39m(ranges) \u001b[38;5;129;01mis\u001b[39;00m \u001b[38;5;129;01mnot\u001b[39;00m \u001b[38;5;28mtuple\u001b[39m:\n\u001b[0;32m   2990\u001b[0m     ranges \u001b[38;5;241m=\u001b[39m \u001b[38;5;28mtuple\u001b[39m(ranges)\n",
      "File \u001b[1;32mpyomo\\core\\expr\\numvalue.pyx:229\u001b[0m, in \u001b[0;36mpyomo.core.expr.numvalue.value\u001b[1;34m()\u001b[0m\n",
      "File \u001b[1;32mpyomo\\core\\expr\\numvalue.pyx:213\u001b[0m, in \u001b[0;36mpyomo.core.expr.numvalue.value\u001b[1;34m()\u001b[0m\n",
      "File \u001b[1;32mc:\\users\\manyu\\mystack\\py-schedule-opt\\venv\\lib\\site-packages\\pyomo\\core\\base\\param.py:883\u001b[0m, in \u001b[0;36mScalarParam.__call__\u001b[1;34m(self, exception)\u001b[0m\n\u001b[0;32m    879\u001b[0m             \u001b[38;5;28mself\u001b[39m[\u001b[38;5;28;01mNone\u001b[39;00m]\n\u001b[0;32m    880\u001b[0m         \u001b[38;5;28;01melse\u001b[39;00m:\n\u001b[0;32m    881\u001b[0m             \u001b[38;5;66;03m# Immutable Param defaults never get added to the\u001b[39;00m\n\u001b[0;32m    882\u001b[0m             \u001b[38;5;66;03m# _data dict\u001b[39;00m\n\u001b[1;32m--> 883\u001b[0m             \u001b[38;5;28;01mreturn\u001b[39;00m \u001b[38;5;28;43mself\u001b[39;49m\u001b[43m[\u001b[49m\u001b[38;5;28;43;01mNone\u001b[39;49;00m\u001b[43m]\u001b[49m\n\u001b[0;32m    884\u001b[0m     \u001b[38;5;28;01mreturn\u001b[39;00m \u001b[38;5;28msuper\u001b[39m(ScalarParam, \u001b[38;5;28mself\u001b[39m)\u001b[38;5;241m.\u001b[39m\u001b[38;5;21m__call__\u001b[39m(exception\u001b[38;5;241m=\u001b[39mexception)\n\u001b[0;32m    885\u001b[0m \u001b[38;5;28;01mif\u001b[39;00m exception:\n",
      "File \u001b[1;32mc:\\users\\manyu\\mystack\\py-schedule-opt\\venv\\lib\\site-packages\\pyomo\\core\\base\\indexed_component.py:649\u001b[0m, in \u001b[0;36mIndexedComponent.__getitem__\u001b[1;34m(self, index)\u001b[0m\n\u001b[0;32m    644\u001b[0m     \u001b[38;5;66;03m#\u001b[39;00m\n\u001b[0;32m    645\u001b[0m     \u001b[38;5;66;03m# Call the _getitem_when_not_present helper to retrieve/return\u001b[39;00m\n\u001b[0;32m    646\u001b[0m     \u001b[38;5;66;03m# the default value\u001b[39;00m\n\u001b[0;32m    647\u001b[0m     \u001b[38;5;66;03m#\u001b[39;00m\n\u001b[0;32m    648\u001b[0m     \u001b[38;5;28;01mif\u001b[39;00m obj \u001b[38;5;129;01mis\u001b[39;00m _NotFound:\n\u001b[1;32m--> 649\u001b[0m         \u001b[38;5;28;01mreturn\u001b[39;00m \u001b[38;5;28;43mself\u001b[39;49m\u001b[38;5;241;43m.\u001b[39;49m\u001b[43m_getitem_when_not_present\u001b[49m\u001b[43m(\u001b[49m\u001b[43mindex\u001b[49m\u001b[43m)\u001b[49m\n\u001b[0;32m    651\u001b[0m \u001b[38;5;28;01mreturn\u001b[39;00m obj\n",
      "File \u001b[1;32mc:\\users\\manyu\\mystack\\py-schedule-opt\\venv\\lib\\site-packages\\pyomo\\core\\base\\param.py:579\u001b[0m, in \u001b[0;36mParam._getitem_when_not_present\u001b[1;34m(self, index)\u001b[0m\n\u001b[0;32m    577\u001b[0m     \u001b[38;5;28;01melse\u001b[39;00m:\n\u001b[0;32m    578\u001b[0m         idx_str \u001b[38;5;241m=\u001b[39m \u001b[38;5;124m'\u001b[39m\u001b[38;5;132;01m%s\u001b[39;00m\u001b[38;5;124m'\u001b[39m \u001b[38;5;241m%\u001b[39m (\u001b[38;5;28mself\u001b[39m\u001b[38;5;241m.\u001b[39mname,)\n\u001b[1;32m--> 579\u001b[0m     \u001b[38;5;28;01mraise\u001b[39;00m \u001b[38;5;167;01mValueError\u001b[39;00m(\n\u001b[0;32m    580\u001b[0m         \u001b[38;5;124m\"\u001b[39m\u001b[38;5;124mError retrieving immutable Param value (\u001b[39m\u001b[38;5;132;01m%s\u001b[39;00m\u001b[38;5;124m):\u001b[39m\u001b[38;5;130;01m\\n\u001b[39;00m\u001b[38;5;130;01m\\t\u001b[39;00m\u001b[38;5;124mThe Param \u001b[39m\u001b[38;5;124m\"\u001b[39m\n\u001b[0;32m    581\u001b[0m         \u001b[38;5;124m\"\u001b[39m\u001b[38;5;124mvalue is undefined and no default value is specified.\u001b[39m\u001b[38;5;124m\"\u001b[39m \u001b[38;5;241m%\u001b[39m (idx_str,)\n\u001b[0;32m    582\u001b[0m     )\n\u001b[0;32m    584\u001b[0m _default_type \u001b[38;5;241m=\u001b[39m \u001b[38;5;28mtype\u001b[39m(val)\n\u001b[0;32m    585\u001b[0m _check_value_domain \u001b[38;5;241m=\u001b[39m \u001b[38;5;28;01mTrue\u001b[39;00m\n",
      "\u001b[1;31mValueError\u001b[0m: Error retrieving immutable Param value (m):\n\tThe Param value is undefined and no default value is specified."
     ]
    }
   ],
   "source": [
    "model_1 = model.construct()\n",
    "model_1.pprint()"
   ]
  },
  {
   "cell_type": "code",
   "execution_count": 19,
   "id": "05d06168-9ca7-4606-bfba-4c89eda43d58",
   "metadata": {},
   "outputs": [
    {
     "ename": "RuntimeError",
     "evalue": "Cannot iterate over AbstractFiniteScalarRangeSet 'I' before it has been constructed (initialized): '__iter__' is an attribute on an Abstract component and cannot be accessed until the component has been fully constructed (converted to a Concrete component) using AbstractModel.create_instance() or I.construct().",
     "output_type": "error",
     "traceback": [
      "\u001b[1;31m---------------------------------------------------------------------------\u001b[0m",
      "\u001b[1;31mRuntimeError\u001b[0m                              Traceback (most recent call last)",
      "Cell \u001b[1;32mIn[19], line 6\u001b[0m\n\u001b[0;32m      4\u001b[0m opt \u001b[38;5;241m=\u001b[39m SolverFactory(\u001b[38;5;124m'\u001b[39m\u001b[38;5;124mcplex\u001b[39m\u001b[38;5;124m'\u001b[39m)  \u001b[38;5;66;03m# Select solver\u001b[39;00m\n\u001b[0;32m      5\u001b[0m solver_manager \u001b[38;5;241m=\u001b[39m SolverManagerFactory(\u001b[38;5;124m'\u001b[39m\u001b[38;5;124mneos\u001b[39m\u001b[38;5;124m'\u001b[39m)  \u001b[38;5;66;03m# Solve in neos server\u001b[39;00m\n\u001b[1;32m----> 6\u001b[0m results \u001b[38;5;241m=\u001b[39m \u001b[43msolver_manager\u001b[49m\u001b[38;5;241;43m.\u001b[39;49m\u001b[43msolve\u001b[49m\u001b[43m(\u001b[49m\u001b[43mmodel\u001b[49m\u001b[43m,\u001b[49m\u001b[43m \u001b[49m\u001b[43mopt\u001b[49m\u001b[38;5;241;43m=\u001b[39;49m\u001b[43mopt\u001b[49m\u001b[43m)\u001b[49m\n",
      "File \u001b[1;32mc:\\users\\manyu\\mystack\\py-schedule-opt\\venv\\lib\\site-packages\\pyomo\\opt\\parallel\\async_solver.py:27\u001b[0m, in \u001b[0;36mAsynchronousSolverManager.solve\u001b[1;34m(self, *args, **kwds)\u001b[0m\n\u001b[0;32m     26\u001b[0m \u001b[38;5;28;01mdef\u001b[39;00m \u001b[38;5;21msolve\u001b[39m(\u001b[38;5;28mself\u001b[39m, \u001b[38;5;241m*\u001b[39margs, \u001b[38;5;241m*\u001b[39m\u001b[38;5;241m*\u001b[39mkwds):\n\u001b[1;32m---> 27\u001b[0m     \u001b[38;5;28;01mreturn\u001b[39;00m \u001b[38;5;28mself\u001b[39m\u001b[38;5;241m.\u001b[39mexecute(\u001b[38;5;241m*\u001b[39margs, \u001b[38;5;241m*\u001b[39m\u001b[38;5;241m*\u001b[39mkwds)\n",
      "File \u001b[1;32mc:\\users\\manyu\\mystack\\py-schedule-opt\\venv\\lib\\site-packages\\pyomo\\opt\\parallel\\manager.py:131\u001b[0m, in \u001b[0;36mAsynchronousActionManager.execute\u001b[1;34m(self, *args, **kwds)\u001b[0m\n\u001b[0;32m    127\u001b[0m \u001b[38;5;28;01mdef\u001b[39;00m \u001b[38;5;21mexecute\u001b[39m(\u001b[38;5;28mself\u001b[39m, \u001b[38;5;241m*\u001b[39margs, \u001b[38;5;241m*\u001b[39m\u001b[38;5;241m*\u001b[39mkwds):\n\u001b[0;32m    128\u001b[0m \u001b[38;5;250m    \u001b[39m\u001b[38;5;124;03m\"\"\"\u001b[39;00m\n\u001b[0;32m    129\u001b[0m \u001b[38;5;124;03m    Synchronously execute an action.\u001b[39;00m\n\u001b[0;32m    130\u001b[0m \u001b[38;5;124;03m    \"\"\"\u001b[39;00m\n\u001b[1;32m--> 131\u001b[0m     ah \u001b[38;5;241m=\u001b[39m \u001b[38;5;28mself\u001b[39m\u001b[38;5;241m.\u001b[39mqueue(\u001b[38;5;241m*\u001b[39margs, \u001b[38;5;241m*\u001b[39m\u001b[38;5;241m*\u001b[39mkwds)\n\u001b[0;32m    132\u001b[0m     results \u001b[38;5;241m=\u001b[39m \u001b[38;5;28mself\u001b[39m\u001b[38;5;241m.\u001b[39mwait_for(ah)\n\u001b[0;32m    133\u001b[0m     \u001b[38;5;28;01mif\u001b[39;00m results \u001b[38;5;129;01mis\u001b[39;00m \u001b[38;5;28;01mNone\u001b[39;00m:\n",
      "File \u001b[1;32mc:\\users\\manyu\\mystack\\py-schedule-opt\\venv\\lib\\site-packages\\pyomo\\opt\\parallel\\manager.py:147\u001b[0m, in \u001b[0;36mAsynchronousActionManager.queue\u001b[1;34m(self, *args, **kwds)\u001b[0m\n\u001b[0;32m    145\u001b[0m ah\u001b[38;5;241m.\u001b[39mstatus \u001b[38;5;241m=\u001b[39m ActionStatus\u001b[38;5;241m.\u001b[39mqueued\n\u001b[0;32m    146\u001b[0m \u001b[38;5;28mself\u001b[39m\u001b[38;5;241m.\u001b[39mqueued_action_counter \u001b[38;5;241m+\u001b[39m\u001b[38;5;241m=\u001b[39m \u001b[38;5;241m1\u001b[39m\n\u001b[1;32m--> 147\u001b[0m \u001b[38;5;28;01mreturn\u001b[39;00m \u001b[38;5;28mself\u001b[39m\u001b[38;5;241m.\u001b[39m_perform_queue(ah, \u001b[38;5;241m*\u001b[39margs, \u001b[38;5;241m*\u001b[39m\u001b[38;5;241m*\u001b[39mkwds)\n",
      "File \u001b[1;32mc:\\users\\manyu\\mystack\\py-schedule-opt\\venv\\lib\\site-packages\\pyomo\\neos\\plugins\\kestrel_plugin.py:116\u001b[0m, in \u001b[0;36mSolverManager_NEOS._perform_queue\u001b[1;34m(self, ah, *args, **kwds)\u001b[0m\n\u001b[0;32m    113\u001b[0m     \u001b[38;5;28;01mdel\u001b[39;00m user_solver_options[\u001b[38;5;124m'\u001b[39m\u001b[38;5;124mtimelimit\u001b[39m\u001b[38;5;124m'\u001b[39m]\n\u001b[0;32m    115\u001b[0m opt \u001b[38;5;241m=\u001b[39m SolverFactory(\u001b[38;5;124m'\u001b[39m\u001b[38;5;124m_neos\u001b[39m\u001b[38;5;124m'\u001b[39m)\n\u001b[1;32m--> 116\u001b[0m opt\u001b[38;5;241m.\u001b[39m_presolve(\u001b[38;5;241m*\u001b[39margs, \u001b[38;5;241m*\u001b[39m\u001b[38;5;241m*\u001b[39mkwds)\n\u001b[0;32m    117\u001b[0m \u001b[38;5;66;03m#\u001b[39;00m\n\u001b[0;32m    118\u001b[0m \u001b[38;5;66;03m# Map NEOS name, using lowercase convention in Pyomo\u001b[39;00m\n\u001b[0;32m    119\u001b[0m \u001b[38;5;66;03m#\u001b[39;00m\n\u001b[0;32m    120\u001b[0m \u001b[38;5;28;01mif\u001b[39;00m \u001b[38;5;28mlen\u001b[39m(\u001b[38;5;28mself\u001b[39m\u001b[38;5;241m.\u001b[39m_solvers) \u001b[38;5;241m==\u001b[39m \u001b[38;5;241m0\u001b[39m:\n",
      "File \u001b[1;32mc:\\users\\manyu\\mystack\\py-schedule-opt\\venv\\lib\\site-packages\\pyomo\\opt\\solver\\shellcmd.py:224\u001b[0m, in \u001b[0;36mSystemCallSolver._presolve\u001b[1;34m(self, *args, **kwds)\u001b[0m\n\u001b[0;32m    221\u001b[0m \u001b[38;5;28mself\u001b[39m\u001b[38;5;241m.\u001b[39m_keepfiles \u001b[38;5;241m=\u001b[39m kwds\u001b[38;5;241m.\u001b[39mpop(\u001b[38;5;124m\"\u001b[39m\u001b[38;5;124mkeepfiles\u001b[39m\u001b[38;5;124m\"\u001b[39m, \u001b[38;5;28;01mFalse\u001b[39;00m)\n\u001b[0;32m    222\u001b[0m \u001b[38;5;28mself\u001b[39m\u001b[38;5;241m.\u001b[39m_define_signal_handlers \u001b[38;5;241m=\u001b[39m kwds\u001b[38;5;241m.\u001b[39mpop(\u001b[38;5;124m'\u001b[39m\u001b[38;5;124muse_signal_handling\u001b[39m\u001b[38;5;124m'\u001b[39m, \u001b[38;5;28;01mNone\u001b[39;00m)\n\u001b[1;32m--> 224\u001b[0m OptSolver\u001b[38;5;241m.\u001b[39m_presolve(\u001b[38;5;28mself\u001b[39m, \u001b[38;5;241m*\u001b[39margs, \u001b[38;5;241m*\u001b[39m\u001b[38;5;241m*\u001b[39mkwds)\n\u001b[0;32m    226\u001b[0m \u001b[38;5;66;03m#\u001b[39;00m\n\u001b[0;32m    227\u001b[0m \u001b[38;5;66;03m# Verify that the input problems exists\u001b[39;00m\n\u001b[0;32m    228\u001b[0m \u001b[38;5;66;03m#\u001b[39;00m\n\u001b[0;32m    229\u001b[0m \u001b[38;5;28;01mfor\u001b[39;00m filename \u001b[38;5;129;01min\u001b[39;00m \u001b[38;5;28mself\u001b[39m\u001b[38;5;241m.\u001b[39m_problem_files:\n",
      "File \u001b[1;32mc:\\users\\manyu\\mystack\\py-schedule-opt\\venv\\lib\\site-packages\\pyomo\\opt\\base\\solvers.py:706\u001b[0m, in \u001b[0;36mOptSolver._presolve\u001b[1;34m(self, *args, **kwds)\u001b[0m\n\u001b[0;32m    700\u001b[0m \u001b[38;5;28;01mif\u001b[39;00m \u001b[38;5;28mself\u001b[39m\u001b[38;5;241m.\u001b[39m_problem_format:\n\u001b[0;32m    701\u001b[0m     write_start_time \u001b[38;5;241m=\u001b[39m time\u001b[38;5;241m.\u001b[39mtime()\n\u001b[0;32m    702\u001b[0m     (\n\u001b[0;32m    703\u001b[0m         \u001b[38;5;28mself\u001b[39m\u001b[38;5;241m.\u001b[39m_problem_files,\n\u001b[0;32m    704\u001b[0m         \u001b[38;5;28mself\u001b[39m\u001b[38;5;241m.\u001b[39m_problem_format,\n\u001b[0;32m    705\u001b[0m         \u001b[38;5;28mself\u001b[39m\u001b[38;5;241m.\u001b[39m_smap_id,\n\u001b[1;32m--> 706\u001b[0m     ) \u001b[38;5;241m=\u001b[39m \u001b[38;5;28mself\u001b[39m\u001b[38;5;241m.\u001b[39m_convert_problem(\n\u001b[0;32m    707\u001b[0m         args, \u001b[38;5;28mself\u001b[39m\u001b[38;5;241m.\u001b[39m_problem_format, \u001b[38;5;28mself\u001b[39m\u001b[38;5;241m.\u001b[39m_valid_problem_formats, \u001b[38;5;241m*\u001b[39m\u001b[38;5;241m*\u001b[39mkwds\n\u001b[0;32m    708\u001b[0m     )\n\u001b[0;32m    709\u001b[0m     total_time \u001b[38;5;241m=\u001b[39m time\u001b[38;5;241m.\u001b[39mtime() \u001b[38;5;241m-\u001b[39m write_start_time\n\u001b[0;32m    710\u001b[0m     \u001b[38;5;28;01mif\u001b[39;00m \u001b[38;5;28mself\u001b[39m\u001b[38;5;241m.\u001b[39m_report_timing:\n",
      "File \u001b[1;32mc:\\users\\manyu\\mystack\\py-schedule-opt\\venv\\lib\\site-packages\\pyomo\\opt\\base\\solvers.py:757\u001b[0m, in \u001b[0;36mOptSolver._convert_problem\u001b[1;34m(self, args, problem_format, valid_problem_formats, **kwds)\u001b[0m\n\u001b[0;32m    756\u001b[0m \u001b[38;5;28;01mdef\u001b[39;00m \u001b[38;5;21m_convert_problem\u001b[39m(\u001b[38;5;28mself\u001b[39m, args, problem_format, valid_problem_formats, \u001b[38;5;241m*\u001b[39m\u001b[38;5;241m*\u001b[39mkwds):\n\u001b[1;32m--> 757\u001b[0m     \u001b[38;5;28;01mreturn\u001b[39;00m convert_problem(\n\u001b[0;32m    758\u001b[0m         args, problem_format, valid_problem_formats, \u001b[38;5;28mself\u001b[39m\u001b[38;5;241m.\u001b[39mhas_capability, \u001b[38;5;241m*\u001b[39m\u001b[38;5;241m*\u001b[39mkwds\n\u001b[0;32m    759\u001b[0m     )\n",
      "File \u001b[1;32mc:\\users\\manyu\\mystack\\py-schedule-opt\\venv\\lib\\site-packages\\pyomo\\opt\\base\\convert.py:99\u001b[0m, in \u001b[0;36mconvert_problem\u001b[1;34m(args, target_problem_type, valid_problem_types, has_capability, **kwds)\u001b[0m\n\u001b[0;32m     97\u001b[0m                 tmpkw \u001b[38;5;241m=\u001b[39m kwds\n\u001b[0;32m     98\u001b[0m                 tmpkw[\u001b[38;5;124m'\u001b[39m\u001b[38;5;124mcapabilities\u001b[39m\u001b[38;5;124m'\u001b[39m] \u001b[38;5;241m=\u001b[39m has_capability\n\u001b[1;32m---> 99\u001b[0m                 problem_files, symbol_map \u001b[38;5;241m=\u001b[39m converter\u001b[38;5;241m.\u001b[39mapply(\u001b[38;5;241m*\u001b[39mtmp, \u001b[38;5;241m*\u001b[39m\u001b[38;5;241m*\u001b[39mtmpkw)\n\u001b[0;32m    100\u001b[0m                 \u001b[38;5;28;01mreturn\u001b[39;00m problem_files, ptype, symbol_map\n\u001b[0;32m    102\u001b[0m msg \u001b[38;5;241m=\u001b[39m \u001b[38;5;124m'\u001b[39m\u001b[38;5;124mNo conversion possible.  Source problem type: \u001b[39m\u001b[38;5;132;01m%s\u001b[39;00m\u001b[38;5;124m.  Valid target types: \u001b[39m\u001b[38;5;132;01m%s\u001b[39;00m\u001b[38;5;124m'\u001b[39m\n",
      "File \u001b[1;32mc:\\users\\manyu\\mystack\\py-schedule-opt\\venv\\lib\\site-packages\\pyomo\\solvers\\plugins\\converter\\model.py:184\u001b[0m, in \u001b[0;36mPyomoMIPConverter.apply\u001b[1;34m(self, *args, **kwds)\u001b[0m\n\u001b[0;32m    176\u001b[0m         symbol_map_id \u001b[38;5;241m=\u001b[39m instance\u001b[38;5;241m.\u001b[39mwrite(\n\u001b[0;32m    177\u001b[0m             problem_filename,\n\u001b[0;32m    178\u001b[0m             \u001b[38;5;28mformat\u001b[39m\u001b[38;5;241m=\u001b[39margs[\u001b[38;5;241m1\u001b[39m],\n\u001b[1;32m   (...)\u001b[0m\n\u001b[0;32m    181\u001b[0m             \u001b[38;5;241m*\u001b[39m\u001b[38;5;241m*\u001b[39mio_options\n\u001b[0;32m    182\u001b[0m         )\n\u001b[0;32m    183\u001b[0m     \u001b[38;5;28;01melse\u001b[39;00m:\n\u001b[1;32m--> 184\u001b[0m         (problem_filename, symbol_map_id) \u001b[38;5;241m=\u001b[39m \u001b[43minstance\u001b[49m\u001b[38;5;241;43m.\u001b[39;49m\u001b[43mwrite\u001b[49m\u001b[43m(\u001b[49m\n\u001b[0;32m    185\u001b[0m \u001b[43m            \u001b[49m\u001b[43mfilename\u001b[49m\u001b[38;5;241;43m=\u001b[39;49m\u001b[43mproblem_filename\u001b[49m\u001b[43m,\u001b[49m\n\u001b[0;32m    186\u001b[0m \u001b[43m            \u001b[49m\u001b[38;5;28;43mformat\u001b[39;49m\u001b[38;5;241;43m=\u001b[39;49m\u001b[43margs\u001b[49m\u001b[43m[\u001b[49m\u001b[38;5;241;43m1\u001b[39;49m\u001b[43m]\u001b[49m\u001b[43m,\u001b[49m\n\u001b[0;32m    187\u001b[0m \u001b[43m            \u001b[49m\u001b[43msolver_capability\u001b[49m\u001b[38;5;241;43m=\u001b[39;49m\u001b[43mcapabilities\u001b[49m\u001b[43m,\u001b[49m\n\u001b[0;32m    188\u001b[0m \u001b[43m            \u001b[49m\u001b[43mio_options\u001b[49m\u001b[38;5;241;43m=\u001b[39;49m\u001b[43mio_options\u001b[49m\u001b[43m,\u001b[49m\n\u001b[0;32m    189\u001b[0m \u001b[43m        \u001b[49m\u001b[43m)\u001b[49m\n\u001b[0;32m    190\u001b[0m     \u001b[38;5;28;01mreturn\u001b[39;00m (problem_filename,), symbol_map_id\n\u001b[0;32m    191\u001b[0m \u001b[38;5;28;01melse\u001b[39;00m:\n\u001b[0;32m    192\u001b[0m     \u001b[38;5;66;03m#\u001b[39;00m\n\u001b[0;32m    193\u001b[0m     \u001b[38;5;66;03m# I'm simply exposing a fatal issue with\u001b[39;00m\n\u001b[1;32m   (...)\u001b[0m\n\u001b[0;32m    196\u001b[0m     \u001b[38;5;66;03m# arguments that can be sent to the writer?\u001b[39;00m\n\u001b[0;32m    197\u001b[0m     \u001b[38;5;66;03m#\u001b[39;00m\n",
      "File \u001b[1;32mc:\\users\\manyu\\mystack\\py-schedule-opt\\venv\\lib\\site-packages\\pyomo\\core\\base\\block.py:1983\u001b[0m, in \u001b[0;36m_BlockData.write\u001b[1;34m(self, filename, format, solver_capability, io_options)\u001b[0m\n\u001b[0;32m   1980\u001b[0m     \u001b[38;5;28;01mdef\u001b[39;00m \u001b[38;5;21msolver_capability\u001b[39m(x):\n\u001b[0;32m   1981\u001b[0m         \u001b[38;5;28;01mreturn\u001b[39;00m \u001b[38;5;28;01mTrue\u001b[39;00m\n\u001b[1;32m-> 1983\u001b[0m (filename, smap) \u001b[38;5;241m=\u001b[39m \u001b[43mproblem_writer\u001b[49m\u001b[43m(\u001b[49m\u001b[38;5;28;43mself\u001b[39;49m\u001b[43m,\u001b[49m\u001b[43m \u001b[49m\u001b[43mfilename\u001b[49m\u001b[43m,\u001b[49m\u001b[43m \u001b[49m\u001b[43msolver_capability\u001b[49m\u001b[43m,\u001b[49m\u001b[43m \u001b[49m\u001b[43mio_options\u001b[49m\u001b[43m)\u001b[49m\n\u001b[0;32m   1984\u001b[0m smap_id \u001b[38;5;241m=\u001b[39m \u001b[38;5;28mid\u001b[39m(smap)\n\u001b[0;32m   1985\u001b[0m \u001b[38;5;28;01mif\u001b[39;00m \u001b[38;5;129;01mnot\u001b[39;00m \u001b[38;5;28mhasattr\u001b[39m(\u001b[38;5;28mself\u001b[39m, \u001b[38;5;124m'\u001b[39m\u001b[38;5;124msolutions\u001b[39m\u001b[38;5;124m'\u001b[39m):\n\u001b[0;32m   1986\u001b[0m     \u001b[38;5;66;03m# This is a bit of a hack.  The write() method was moved\u001b[39;00m\n\u001b[0;32m   1987\u001b[0m     \u001b[38;5;66;03m# here from PyomoModel to support the solution of arbitrary\u001b[39;00m\n\u001b[1;32m   (...)\u001b[0m\n\u001b[0;32m   1992\u001b[0m     \u001b[38;5;66;03m# dependency (we only need it here because we store the\u001b[39;00m\n\u001b[0;32m   1993\u001b[0m     \u001b[38;5;66;03m# SymbolMap returned by the writer in the solutions).\u001b[39;00m\n",
      "File \u001b[1;32mc:\\users\\manyu\\mystack\\py-schedule-opt\\venv\\lib\\site-packages\\pyomo\\repn\\plugins\\nl_writer.py:266\u001b[0m, in \u001b[0;36mNLWriter.__call__\u001b[1;34m(self, model, filename, solver_capability, io_options)\u001b[0m\n\u001b[0;32m    262\u001b[0m     _open \u001b[38;5;241m=\u001b[39m nullcontext\n\u001b[0;32m    263\u001b[0m \u001b[38;5;28;01mwith\u001b[39;00m \u001b[38;5;28mopen\u001b[39m(filename, \u001b[38;5;124m'\u001b[39m\u001b[38;5;124mw\u001b[39m\u001b[38;5;124m'\u001b[39m, newline\u001b[38;5;241m=\u001b[39m\u001b[38;5;124m'\u001b[39m\u001b[38;5;124m'\u001b[39m) \u001b[38;5;28;01mas\u001b[39;00m FILE, _open(\n\u001b[0;32m    264\u001b[0m     row_fname\n\u001b[0;32m    265\u001b[0m ) \u001b[38;5;28;01mas\u001b[39;00m ROWFILE, _open(col_fname) \u001b[38;5;28;01mas\u001b[39;00m COLFILE:\n\u001b[1;32m--> 266\u001b[0m     info \u001b[38;5;241m=\u001b[39m \u001b[38;5;28;43mself\u001b[39;49m\u001b[38;5;241;43m.\u001b[39;49m\u001b[43mwrite\u001b[49m\u001b[43m(\u001b[49m\u001b[43mmodel\u001b[49m\u001b[43m,\u001b[49m\u001b[43m \u001b[49m\u001b[43mFILE\u001b[49m\u001b[43m,\u001b[49m\u001b[43m \u001b[49m\u001b[43mROWFILE\u001b[49m\u001b[43m,\u001b[49m\u001b[43m \u001b[49m\u001b[43mCOLFILE\u001b[49m\u001b[43m,\u001b[49m\u001b[43m \u001b[49m\u001b[43mconfig\u001b[49m\u001b[38;5;241;43m=\u001b[39;49m\u001b[43mconfig\u001b[49m\u001b[43m)\u001b[49m\n\u001b[0;32m    267\u001b[0m \u001b[38;5;66;03m# Historically, the NL writer communicated the external function\u001b[39;00m\n\u001b[0;32m    268\u001b[0m \u001b[38;5;66;03m# libraries back to the ASL interface through the PYOMO_AMPLFUNC\u001b[39;00m\n\u001b[0;32m    269\u001b[0m \u001b[38;5;66;03m# environment variable.\u001b[39;00m\n\u001b[0;32m    270\u001b[0m set_pyomo_amplfunc_env(info\u001b[38;5;241m.\u001b[39mexternal_function_libraries)\n",
      "File \u001b[1;32mc:\\users\\manyu\\mystack\\py-schedule-opt\\venv\\lib\\site-packages\\pyomo\\repn\\plugins\\nl_writer.py:310\u001b[0m, in \u001b[0;36mNLWriter.write\u001b[1;34m(self, model, ostream, rowstream, colstream, **options)\u001b[0m\n\u001b[0;32m    306\u001b[0m \u001b[38;5;66;03m# Pause the GC, as the walker that generates the compiled NL\u001b[39;00m\n\u001b[0;32m    307\u001b[0m \u001b[38;5;66;03m# representation generates (and disposes of) a large number of\u001b[39;00m\n\u001b[0;32m    308\u001b[0m \u001b[38;5;66;03m# small objects.\u001b[39;00m\n\u001b[0;32m    309\u001b[0m \u001b[38;5;28;01mwith\u001b[39;00m _NLWriter_impl(ostream, rowstream, colstream, config) \u001b[38;5;28;01mas\u001b[39;00m impl:\n\u001b[1;32m--> 310\u001b[0m     \u001b[38;5;28;01mreturn\u001b[39;00m \u001b[43mimpl\u001b[49m\u001b[38;5;241;43m.\u001b[39;49m\u001b[43mwrite\u001b[49m\u001b[43m(\u001b[49m\u001b[43mmodel\u001b[49m\u001b[43m)\u001b[49m\n",
      "File \u001b[1;32mc:\\users\\manyu\\mystack\\py-schedule-opt\\venv\\lib\\site-packages\\pyomo\\repn\\plugins\\nl_writer.py:555\u001b[0m, in \u001b[0;36m_NLWriter_impl.write\u001b[1;34m(self, model)\u001b[0m\n\u001b[0;32m    553\u001b[0m n_complementarity_range \u001b[38;5;241m=\u001b[39m \u001b[38;5;241m0\u001b[39m\n\u001b[0;32m    554\u001b[0m n_complementarity_nz_var_lb \u001b[38;5;241m=\u001b[39m \u001b[38;5;241m0\u001b[39m\n\u001b[1;32m--> 555\u001b[0m \u001b[38;5;28;01mfor\u001b[39;00m con \u001b[38;5;129;01min\u001b[39;00m ordered_active_constraints(model, \u001b[38;5;28mself\u001b[39m\u001b[38;5;241m.\u001b[39mconfig):\n\u001b[0;32m    556\u001b[0m     \u001b[38;5;28;01mif\u001b[39;00m with_debug_timing \u001b[38;5;129;01mand\u001b[39;00m con\u001b[38;5;241m.\u001b[39mparent_component() \u001b[38;5;129;01mis\u001b[39;00m \u001b[38;5;129;01mnot\u001b[39;00m last_parent:\n\u001b[0;32m    557\u001b[0m         timer\u001b[38;5;241m.\u001b[39mtoc(\u001b[38;5;124m'\u001b[39m\u001b[38;5;124mConstraint \u001b[39m\u001b[38;5;132;01m%s\u001b[39;00m\u001b[38;5;124m'\u001b[39m, last_parent, level\u001b[38;5;241m=\u001b[39mlogging\u001b[38;5;241m.\u001b[39mDEBUG)\n",
      "File \u001b[1;32mc:\\users\\manyu\\mystack\\py-schedule-opt\\venv\\lib\\site-packages\\pyomo\\core\\base\\block.py:1610\u001b[0m, in \u001b[0;36m_BlockData.component_data_objects\u001b[1;34m(self, ctype, active, sort, descend_into, descent_order)\u001b[0m\n\u001b[0;32m   1606\u001b[0m dedup \u001b[38;5;241m=\u001b[39m _DeduplicateInfo()\n\u001b[0;32m   1607\u001b[0m \u001b[38;5;28;01mfor\u001b[39;00m _block \u001b[38;5;129;01min\u001b[39;00m \u001b[38;5;28mself\u001b[39m\u001b[38;5;241m.\u001b[39mblock_data_objects(\n\u001b[0;32m   1608\u001b[0m     active, sort, descend_into, descent_order\n\u001b[0;32m   1609\u001b[0m ):\n\u001b[1;32m-> 1610\u001b[0m     \u001b[38;5;28;01myield from\u001b[39;00m _block\u001b[38;5;241m.\u001b[39m_component_data_itervalues(ctype, active, sort, dedup)\n",
      "File \u001b[1;32mc:\\users\\manyu\\mystack\\py-schedule-opt\\venv\\lib\\site-packages\\pyomo\\core\\base\\block.py:1532\u001b[0m, in \u001b[0;36m_BlockData._component_data_itervalues\u001b[1;34m(self, ctype, active, sort, dedup)\u001b[0m\n\u001b[0;32m   1523\u001b[0m \u001b[38;5;28;01mfor\u001b[39;00m comp \u001b[38;5;129;01min\u001b[39;00m PseudoMap(\u001b[38;5;28mself\u001b[39m, ctype, active, sort)\u001b[38;5;241m.\u001b[39mvalues():\n\u001b[0;32m   1524\u001b[0m     \u001b[38;5;66;03m# NOTE: Suffix has a dict interface (something other derived\u001b[39;00m\n\u001b[0;32m   1525\u001b[0m     \u001b[38;5;66;03m#   non-indexed Components may do as well), so we don't want\u001b[39;00m\n\u001b[1;32m   (...)\u001b[0m\n\u001b[0;32m   1529\u001b[0m     \u001b[38;5;66;03m#   processing for the scalar components to catch the case\u001b[39;00m\n\u001b[0;32m   1530\u001b[0m     \u001b[38;5;66;03m#   where there are \"sparse scalar components\"\u001b[39;00m\n\u001b[0;32m   1531\u001b[0m     \u001b[38;5;28;01mif\u001b[39;00m comp\u001b[38;5;241m.\u001b[39mis_indexed():\n\u001b[1;32m-> 1532\u001b[0m         _values \u001b[38;5;241m=\u001b[39m \u001b[43mcomp\u001b[49m\u001b[38;5;241;43m.\u001b[39;49m\u001b[43mvalues\u001b[49m\u001b[43m(\u001b[49m\u001b[43msort\u001b[49m\u001b[43m)\u001b[49m\n\u001b[0;32m   1533\u001b[0m     \u001b[38;5;28;01melif\u001b[39;00m \u001b[38;5;28mhasattr\u001b[39m(comp, \u001b[38;5;124m'\u001b[39m\u001b[38;5;124m_data\u001b[39m\u001b[38;5;124m'\u001b[39m):\n\u001b[0;32m   1534\u001b[0m         \u001b[38;5;66;03m# This is a Scalar component, which may be empty (e.g.,\u001b[39;00m\n\u001b[0;32m   1535\u001b[0m         \u001b[38;5;66;03m# from Constraint.Skip on a scalar Constraint).  Only\u001b[39;00m\n\u001b[0;32m   1536\u001b[0m         \u001b[38;5;66;03m# return a ComponentData if one officially exists.\u001b[39;00m\n\u001b[0;32m   1537\u001b[0m         \u001b[38;5;28;01massert\u001b[39;00m \u001b[38;5;28mlen\u001b[39m(comp\u001b[38;5;241m.\u001b[39m_data) \u001b[38;5;241m<\u001b[39m\u001b[38;5;241m=\u001b[39m \u001b[38;5;241m1\u001b[39m\n",
      "File \u001b[1;32mc:\\users\\manyu\\mystack\\py-schedule-opt\\venv\\lib\\site-packages\\pyomo\\core\\base\\indexed_component.py:546\u001b[0m, in \u001b[0;36mIndexedComponent.values\u001b[1;34m(self, sort, ordered)\u001b[0m\n\u001b[0;32m    544\u001b[0m     \u001b[38;5;28;01mexcept\u001b[39;00m \u001b[38;5;167;01mTypeError\u001b[39;00m:\n\u001b[0;32m    545\u001b[0m         \u001b[38;5;28;01mpass\u001b[39;00m\n\u001b[1;32m--> 546\u001b[0m \u001b[38;5;28;01mreturn\u001b[39;00m \u001b[38;5;28mmap\u001b[39m(\u001b[38;5;28mself\u001b[39m\u001b[38;5;241m.\u001b[39m\u001b[38;5;21m__getitem__\u001b[39m, \u001b[38;5;28;43mself\u001b[39;49m\u001b[38;5;241;43m.\u001b[39;49m\u001b[43mkeys\u001b[49m\u001b[43m(\u001b[49m\u001b[43msort\u001b[49m\u001b[43m)\u001b[49m)\n",
      "File \u001b[1;32mc:\\users\\manyu\\mystack\\py-schedule-opt\\venv\\lib\\site-packages\\pyomo\\core\\base\\indexed_component.py:465\u001b[0m, in \u001b[0;36mIndexedComponent.keys\u001b[1;34m(self, sort, ordered)\u001b[0m\n\u001b[0;32m    463\u001b[0m     ans \u001b[38;5;241m=\u001b[39m \u001b[38;5;28mself\u001b[39m\u001b[38;5;241m.\u001b[39m_index_set\u001b[38;5;241m.\u001b[39mordered_iter()\n\u001b[0;32m    464\u001b[0m \u001b[38;5;28;01melse\u001b[39;00m:\n\u001b[1;32m--> 465\u001b[0m     ans \u001b[38;5;241m=\u001b[39m \u001b[38;5;28;43miter\u001b[39;49m\u001b[43m(\u001b[49m\u001b[38;5;28;43mself\u001b[39;49m\u001b[38;5;241;43m.\u001b[39;49m\u001b[43m_index_set\u001b[49m\u001b[43m)\u001b[49m\n\u001b[0;32m    467\u001b[0m \u001b[38;5;28;01mif\u001b[39;00m \u001b[38;5;28mself\u001b[39m\u001b[38;5;241m.\u001b[39m_data\u001b[38;5;241m.\u001b[39m\u001b[38;5;18m__class__\u001b[39m \u001b[38;5;129;01mis\u001b[39;00m \u001b[38;5;129;01mnot\u001b[39;00m \u001b[38;5;28mdict\u001b[39m:\n\u001b[0;32m    468\u001b[0m     \u001b[38;5;66;03m# We currently only need to worry about sparse data\u001b[39;00m\n\u001b[0;32m    469\u001b[0m     \u001b[38;5;66;03m# structures when the underlying _data is a dict.  Avoiding\u001b[39;00m\n\u001b[0;32m    470\u001b[0m     \u001b[38;5;66;03m# the len() and filter() below is especially important for\u001b[39;00m\n\u001b[0;32m    471\u001b[0m     \u001b[38;5;66;03m# References (where both can be expensive linear-time\u001b[39;00m\n\u001b[0;32m    472\u001b[0m     \u001b[38;5;66;03m# operations)\u001b[39;00m\n\u001b[0;32m    473\u001b[0m     \u001b[38;5;28;01mpass\u001b[39;00m\n",
      "File \u001b[1;32m<string>:2\u001b[0m, in \u001b[0;36m__iter__\u001b[1;34m(self)\u001b[0m\n",
      "\u001b[1;31mRuntimeError\u001b[0m: Cannot iterate over AbstractFiniteScalarRangeSet 'I' before it has been constructed (initialized): '__iter__' is an attribute on an Abstract component and cannot be accessed until the component has been fully constructed (converted to a Concrete component) using AbstractModel.create_instance() or I.construct()."
     ]
    }
   ],
   "source": [
    "from pyomo.opt import SolverFactory\n",
    "from pyomo.environ import *\n",
    "\n",
    "opt = SolverFactory('cplex')  # Select solver\n",
    "solver_manager = SolverManagerFactory('neos')  # Solve in neos server\n",
    "results = solver_manager.solve(model, opt=opt)"
   ]
  },
  {
   "cell_type": "code",
   "execution_count": null,
   "id": "152eb173-af2a-499e-a876-44bb90bdeb26",
   "metadata": {},
   "outputs": [],
   "source": []
  }
 ],
 "metadata": {
  "kernelspec": {
   "display_name": "Python 3 (ipykernel)",
   "language": "python",
   "name": "python3"
  },
  "language_info": {
   "codemirror_mode": {
    "name": "ipython",
    "version": 3
   },
   "file_extension": ".py",
   "mimetype": "text/x-python",
   "name": "python",
   "nbconvert_exporter": "python",
   "pygments_lexer": "ipython3",
   "version": "3.10.4"
  }
 },
 "nbformat": 4,
 "nbformat_minor": 5
}
